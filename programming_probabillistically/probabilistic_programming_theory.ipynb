{
 "cells": [
  {
   "cell_type": "markdown",
   "metadata": {},
   "source": [
    "# Probabilistic Programming\n",
    "\n",
    "These are my notes on the \"Probabilistic Programming\" section of the book \"Bayesian Analysis with Python\" by Osvaldo Martin. The book is available at [Packt](https://www.packtpub.com/en-us/product/bayesian-analysis-with-python-9781789341652) at the time of writing this.\n",
    "\n",
    "## On Bayes Theorem\n",
    "\n",
    "Before I write further notes on the topic, I want to try to explain the core concept behind this alternative approach to statistics: **Bayes Theorem** and how it relates to **Bayesian statistics**. Bayes' Theorem is a fundamental concept in probability theory that describes how to update the probability of a hypothesis as more evidence or information becomes available. Mathematically, it is expressed as:\n",
    "\n",
    "$$P(H|E) = \\frac{P(E|H) \\cdot P(H)}{P(E)}$$\n",
    "\n",
    "Where:\n",
    "\n",
    "- $P(E|H)$ is the probability of observing the evidence ($E$) if the hypothesis ($H$) is true. This is generally called the **likelihood** term in Bayes Theorem.\n",
    "- "
   ]
  },
  {
   "cell_type": "code",
   "execution_count": null,
   "metadata": {},
   "outputs": [],
   "source": []
  }
 ],
 "metadata": {
  "language_info": {
   "name": "python"
  }
 },
 "nbformat": 4,
 "nbformat_minor": 2
}
